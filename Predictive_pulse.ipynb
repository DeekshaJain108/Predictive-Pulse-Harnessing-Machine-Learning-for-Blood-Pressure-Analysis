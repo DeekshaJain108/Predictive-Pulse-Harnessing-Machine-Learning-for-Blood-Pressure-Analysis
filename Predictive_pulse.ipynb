{
 "cells": [
  {
   "cell_type": "code",
   "execution_count": 1,
   "id": "3867266c-acc6-4053-91d6-c304c2bc8bcd",
   "metadata": {},
   "outputs": [],
   "source": [
    "# importing libraries\n",
    "import numpy as np\n",
    "import pandas as pd \n",
    "import matplotlib.pyplot as plt\n",
    "import seaborn as sns"
   ]
  },
  {
   "cell_type": "markdown",
   "id": "b9c025a0-937f-4dd9-be4b-8e26386c57cb",
   "metadata": {},
   "source": []
  },
  {
   "cell_type": "code",
   "execution_count": 2,
   "id": "defb3db3-bb72-48bb-8bf7-4e45d1f79d85",
   "metadata": {},
   "outputs": [],
   "source": [
    "# Read the dataset\n",
    "df=pd.read_csv('patient_data.csv')"
   ]
  },
  {
   "cell_type": "code",
   "execution_count": 5,
   "id": "519c1fa9-4b69-45c7-bbff-9fb25e4f271d",
   "metadata": {},
   "outputs": [
    {
     "data": {
      "text/html": [
       "<div>\n",
       "<style scoped>\n",
       "    .dataframe tbody tr th:only-of-type {\n",
       "        vertical-align: middle;\n",
       "    }\n",
       "\n",
       "    .dataframe tbody tr th {\n",
       "        vertical-align: top;\n",
       "    }\n",
       "\n",
       "    .dataframe thead th {\n",
       "        text-align: right;\n",
       "    }\n",
       "</style>\n",
       "<table border=\"1\" class=\"dataframe\">\n",
       "  <thead>\n",
       "    <tr style=\"text-align: right;\">\n",
       "      <th></th>\n",
       "      <th>Gender</th>\n",
       "      <th>Age</th>\n",
       "      <th>History</th>\n",
       "      <th>Patient</th>\n",
       "      <th>TakeMedication</th>\n",
       "      <th>Severity</th>\n",
       "      <th>BreathShortness</th>\n",
       "      <th>VisualChanges</th>\n",
       "      <th>NoseBleeding</th>\n",
       "      <th>Whendiagnoused</th>\n",
       "      <th>Systolic</th>\n",
       "      <th>Diastolic</th>\n",
       "      <th>ControlledDiet</th>\n",
       "      <th>Stages</th>\n",
       "    </tr>\n",
       "  </thead>\n",
       "  <tbody>\n",
       "    <tr>\n",
       "      <th>0</th>\n",
       "      <td>Male</td>\n",
       "      <td>18-34</td>\n",
       "      <td>Yes</td>\n",
       "      <td>No</td>\n",
       "      <td>No</td>\n",
       "      <td>Mild</td>\n",
       "      <td>No</td>\n",
       "      <td>No</td>\n",
       "      <td>No</td>\n",
       "      <td>&lt;1 Year</td>\n",
       "      <td>111 - 120</td>\n",
       "      <td>81 - 90</td>\n",
       "      <td>No</td>\n",
       "      <td>HYPERTENSION (Stage-1)</td>\n",
       "    </tr>\n",
       "    <tr>\n",
       "      <th>1</th>\n",
       "      <td>Female</td>\n",
       "      <td>18-34</td>\n",
       "      <td>Yes</td>\n",
       "      <td>No</td>\n",
       "      <td>No</td>\n",
       "      <td>Mild</td>\n",
       "      <td>No</td>\n",
       "      <td>No</td>\n",
       "      <td>No</td>\n",
       "      <td>&lt;1 Year</td>\n",
       "      <td>111 - 120</td>\n",
       "      <td>81 - 90</td>\n",
       "      <td>No</td>\n",
       "      <td>HYPERTENSION (Stage-1)</td>\n",
       "    </tr>\n",
       "    <tr>\n",
       "      <th>2</th>\n",
       "      <td>Male</td>\n",
       "      <td>35-50</td>\n",
       "      <td>Yes</td>\n",
       "      <td>No</td>\n",
       "      <td>No</td>\n",
       "      <td>Mild</td>\n",
       "      <td>No</td>\n",
       "      <td>No</td>\n",
       "      <td>No</td>\n",
       "      <td>&lt;1 Year</td>\n",
       "      <td>111 - 120</td>\n",
       "      <td>81 - 90</td>\n",
       "      <td>No</td>\n",
       "      <td>HYPERTENSION (Stage-1)</td>\n",
       "    </tr>\n",
       "    <tr>\n",
       "      <th>3</th>\n",
       "      <td>Female</td>\n",
       "      <td>35-50</td>\n",
       "      <td>Yes</td>\n",
       "      <td>No</td>\n",
       "      <td>No</td>\n",
       "      <td>Mild</td>\n",
       "      <td>No</td>\n",
       "      <td>No</td>\n",
       "      <td>No</td>\n",
       "      <td>&lt;1 Year</td>\n",
       "      <td>111 - 120</td>\n",
       "      <td>81 - 90</td>\n",
       "      <td>No</td>\n",
       "      <td>HYPERTENSION (Stage-1)</td>\n",
       "    </tr>\n",
       "    <tr>\n",
       "      <th>4</th>\n",
       "      <td>Male</td>\n",
       "      <td>51-64</td>\n",
       "      <td>Yes</td>\n",
       "      <td>No</td>\n",
       "      <td>No</td>\n",
       "      <td>Mild</td>\n",
       "      <td>No</td>\n",
       "      <td>No</td>\n",
       "      <td>No</td>\n",
       "      <td>&lt;1 Year</td>\n",
       "      <td>111 - 120</td>\n",
       "      <td>81 - 90</td>\n",
       "      <td>No</td>\n",
       "      <td>HYPERTENSION (Stage-1)</td>\n",
       "    </tr>\n",
       "  </tbody>\n",
       "</table>\n",
       "</div>"
      ],
      "text/plain": [
       "   Gender    Age History Patient TakeMedication Severity BreathShortness  \\\n",
       "0    Male  18-34     Yes      No             No     Mild              No   \n",
       "1  Female  18-34     Yes      No             No     Mild              No   \n",
       "2    Male  35-50     Yes      No             No     Mild              No   \n",
       "3  Female  35-50     Yes      No             No     Mild              No   \n",
       "4    Male  51-64     Yes      No             No     Mild              No   \n",
       "\n",
       "  VisualChanges NoseBleeding Whendiagnoused   Systolic Diastolic  \\\n",
       "0            No          No         <1 Year  111 - 120   81 - 90   \n",
       "1            No          No         <1 Year  111 - 120   81 - 90   \n",
       "2            No          No         <1 Year  111 - 120   81 - 90   \n",
       "3            No          No         <1 Year  111 - 120   81 - 90   \n",
       "4            No          No         <1 Year  111 - 120   81 - 90   \n",
       "\n",
       "  ControlledDiet                  Stages  \n",
       "0             No  HYPERTENSION (Stage-1)  \n",
       "1             No  HYPERTENSION (Stage-1)  \n",
       "2             No  HYPERTENSION (Stage-1)  \n",
       "3             No  HYPERTENSION (Stage-1)  \n",
       "4             No  HYPERTENSION (Stage-1)  "
      ]
     },
     "execution_count": 5,
     "metadata": {},
     "output_type": "execute_result"
    }
   ],
   "source": [
    "df.head()"
   ]
  },
  {
   "cell_type": "code",
   "execution_count": 4,
   "id": "c603a6c9-eada-483c-8255-dab2765ab2be",
   "metadata": {},
   "outputs": [],
   "source": [
    "df.rename(columns ={'C':'Gender'},inplace=True)"
   ]
  },
  {
   "cell_type": "code",
   "execution_count": 6,
   "id": "53bac0fe-f679-4684-9551-67321ef7ae5b",
   "metadata": {},
   "outputs": [
    {
     "name": "stdout",
     "output_type": "stream",
     "text": [
      "<class 'pandas.core.frame.DataFrame'>\n",
      "RangeIndex: 1825 entries, 0 to 1824\n",
      "Data columns (total 14 columns):\n",
      " #   Column           Non-Null Count  Dtype \n",
      "---  ------           --------------  ----- \n",
      " 0   Gender           1825 non-null   object\n",
      " 1   Age              1825 non-null   object\n",
      " 2   History          1825 non-null   object\n",
      " 3   Patient          1825 non-null   object\n",
      " 4   TakeMedication   1825 non-null   object\n",
      " 5   Severity         1825 non-null   object\n",
      " 6   BreathShortness  1825 non-null   object\n",
      " 7   VisualChanges    1825 non-null   object\n",
      " 8   NoseBleeding     1825 non-null   object\n",
      " 9   Whendiagnoused   1825 non-null   object\n",
      " 10  Systolic         1825 non-null   object\n",
      " 11  Diastolic        1825 non-null   object\n",
      " 12  ControlledDiet   1825 non-null   object\n",
      " 13  Stages           1825 non-null   object\n",
      "dtypes: object(14)\n",
      "memory usage: 199.7+ KB\n"
     ]
    }
   ],
   "source": [
    "df.info()"
   ]
  },
  {
   "cell_type": "code",
   "execution_count": 8,
   "id": "ec895bcc-208a-4984-a121-81e1b4942ad0",
   "metadata": {},
   "outputs": [
    {
     "data": {
      "text/plain": [
       "(1825, 14)"
      ]
     },
     "execution_count": 8,
     "metadata": {},
     "output_type": "execute_result"
    }
   ],
   "source": [
    "df.shape"
   ]
  },
  {
   "cell_type": "code",
   "execution_count": 9,
   "id": "83cb69c1-5bb9-4bf6-947a-6900e1c738fc",
   "metadata": {},
   "outputs": [
    {
     "data": {
      "text/plain": [
       "Gender             0\n",
       "Age                0\n",
       "History            0\n",
       "Patient            0\n",
       "TakeMedication     0\n",
       "Severity           0\n",
       "BreathShortness    0\n",
       "VisualChanges      0\n",
       "NoseBleeding       0\n",
       "Whendiagnoused     0\n",
       "Systolic           0\n",
       "Diastolic          0\n",
       "ControlledDiet     0\n",
       "Stages             0\n",
       "dtype: int64"
      ]
     },
     "execution_count": 9,
     "metadata": {},
     "output_type": "execute_result"
    }
   ],
   "source": [
    "df.isnull().sum()"
   ]
  },
  {
   "cell_type": "code",
   "execution_count": 10,
   "id": "af8b3940-f68e-4dba-9560-44d2aa385ce3",
   "metadata": {},
   "outputs": [],
   "source": [
    "#converting catoregical into numerical "
   ]
  },
  {
   "cell_type": "code",
   "execution_count": null,
   "id": "bac7551e-31ff-4976-8ef7-30f5bd6444bb",
   "metadata": {},
   "outputs": [],
   "source": []
  }
 ],
 "metadata": {
  "kernelspec": {
   "display_name": "Python 3 (ipykernel)",
   "language": "python",
   "name": "python3"
  },
  "language_info": {
   "codemirror_mode": {
    "name": "ipython",
    "version": 3
   },
   "file_extension": ".py",
   "mimetype": "text/x-python",
   "name": "python",
   "nbconvert_exporter": "python",
   "pygments_lexer": "ipython3",
   "version": "3.11.7"
  }
 },
 "nbformat": 4,
 "nbformat_minor": 5
}
